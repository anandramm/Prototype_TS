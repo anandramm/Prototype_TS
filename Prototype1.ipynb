{
  "nbformat": 4,
  "nbformat_minor": 0,
  "metadata": {
    "colab": {
      "name": "Prototype1.ipynb",
      "provenance": [],
      "collapsed_sections": []
    },
    "kernelspec": {
      "name": "python3",
      "display_name": "Python 3"
    }
  },
  "cells": [
    {
      "cell_type": "code",
      "metadata": {
        "colab": {
          "base_uri": "https://localhost:8080/"
        },
        "id": "lB3dDMFwBcwB",
        "outputId": "2caf47d4-601b-48e2-f3c4-345c5bfc7068"
      },
      "source": [
        "#installing necessary Libraries\r\n",
        "!pip install yfinance\r\n",
        "!pip install pmdarima"
      ],
      "execution_count": null,
      "outputs": [
        {
          "output_type": "stream",
          "text": [
            "Collecting yfinance\n",
            "  Downloading https://files.pythonhosted.org/packages/7a/e8/b9d7104d3a4bf39924799067592d9e59119fcfc900a425a12e80a3123ec8/yfinance-0.1.55.tar.gz\n",
            "Requirement already satisfied: pandas>=0.24 in /usr/local/lib/python3.6/dist-packages (from yfinance) (1.1.5)\n",
            "Requirement already satisfied: numpy>=1.15 in /usr/local/lib/python3.6/dist-packages (from yfinance) (1.19.5)\n",
            "Requirement already satisfied: requests>=2.20 in /usr/local/lib/python3.6/dist-packages (from yfinance) (2.23.0)\n",
            "Requirement already satisfied: multitasking>=0.0.7 in /usr/local/lib/python3.6/dist-packages (from yfinance) (0.0.9)\n",
            "Collecting lxml>=4.5.1\n",
            "\u001b[?25l  Downloading https://files.pythonhosted.org/packages/bd/78/56a7c88a57d0d14945472535d0df9fb4bbad7d34ede658ec7961635c790e/lxml-4.6.2-cp36-cp36m-manylinux1_x86_64.whl (5.5MB)\n",
            "\u001b[K     |████████████████████████████████| 5.5MB 6.5MB/s \n",
            "\u001b[?25hRequirement already satisfied: python-dateutil>=2.7.3 in /usr/local/lib/python3.6/dist-packages (from pandas>=0.24->yfinance) (2.8.1)\n",
            "Requirement already satisfied: pytz>=2017.2 in /usr/local/lib/python3.6/dist-packages (from pandas>=0.24->yfinance) (2018.9)\n",
            "Requirement already satisfied: idna<3,>=2.5 in /usr/local/lib/python3.6/dist-packages (from requests>=2.20->yfinance) (2.10)\n",
            "Requirement already satisfied: urllib3!=1.25.0,!=1.25.1,<1.26,>=1.21.1 in /usr/local/lib/python3.6/dist-packages (from requests>=2.20->yfinance) (1.24.3)\n",
            "Requirement already satisfied: chardet<4,>=3.0.2 in /usr/local/lib/python3.6/dist-packages (from requests>=2.20->yfinance) (3.0.4)\n",
            "Requirement already satisfied: certifi>=2017.4.17 in /usr/local/lib/python3.6/dist-packages (from requests>=2.20->yfinance) (2020.12.5)\n",
            "Requirement already satisfied: six>=1.5 in /usr/local/lib/python3.6/dist-packages (from python-dateutil>=2.7.3->pandas>=0.24->yfinance) (1.15.0)\n",
            "Building wheels for collected packages: yfinance\n",
            "  Building wheel for yfinance (setup.py) ... \u001b[?25l\u001b[?25hdone\n",
            "  Created wheel for yfinance: filename=yfinance-0.1.55-py2.py3-none-any.whl size=22616 sha256=1224aacafde6224f34f35979a43f6896cf3b48cba60ac9d56a66931ec8ab9c17\n",
            "  Stored in directory: /root/.cache/pip/wheels/04/98/cc/2702a4242d60bdc14f48b4557c427ded1fe92aedf257d4565c\n",
            "Successfully built yfinance\n",
            "Installing collected packages: lxml, yfinance\n",
            "  Found existing installation: lxml 4.2.6\n",
            "    Uninstalling lxml-4.2.6:\n",
            "      Successfully uninstalled lxml-4.2.6\n",
            "Successfully installed lxml-4.6.2 yfinance-0.1.55\n",
            "Collecting pmdarima\n",
            "\u001b[?25l  Downloading https://files.pythonhosted.org/packages/c9/d7/61af1897449638822f97c8b43ef0c2fce2ec68a6cda9a43ebbbdd12b967c/pmdarima-1.8.0-cp36-cp36m-manylinux1_x86_64.whl (1.5MB)\n",
            "\u001b[K     |████████████████████████████████| 1.5MB 5.6MB/s \n",
            "\u001b[?25hRequirement already satisfied: scikit-learn>=0.22 in /usr/local/lib/python3.6/dist-packages (from pmdarima) (0.22.2.post1)\n",
            "Requirement already satisfied: urllib3 in /usr/local/lib/python3.6/dist-packages (from pmdarima) (1.24.3)\n",
            "Requirement already satisfied: scipy>=1.3.2 in /usr/local/lib/python3.6/dist-packages (from pmdarima) (1.4.1)\n",
            "Collecting statsmodels!=0.12.0,>=0.11\n",
            "\u001b[?25l  Downloading https://files.pythonhosted.org/packages/be/4c/9e2435ca6645d6bafa2b51bb11f0a365b28934a2ffe9d6e339d67130926d/statsmodels-0.12.1-cp36-cp36m-manylinux1_x86_64.whl (9.5MB)\n",
            "\u001b[K     |████████████████████████████████| 9.5MB 14.6MB/s \n",
            "\u001b[?25hRequirement already satisfied: pandas>=0.19 in /usr/local/lib/python3.6/dist-packages (from pmdarima) (1.1.5)\n",
            "Collecting Cython<0.29.18,>=0.29\n",
            "\u001b[?25l  Downloading https://files.pythonhosted.org/packages/e7/d7/510ddef0248f3e1e91f9cc7e31c0f35f8954d0af92c5c3fd4c853e859ebe/Cython-0.29.17-cp36-cp36m-manylinux1_x86_64.whl (2.1MB)\n",
            "\u001b[K     |████████████████████████████████| 2.1MB 53.9MB/s \n",
            "\u001b[?25hRequirement already satisfied: numpy>=1.17.3 in /usr/local/lib/python3.6/dist-packages (from pmdarima) (1.19.5)\n",
            "Requirement already satisfied: setuptools!=50.0.0,>=38.6.0 in /usr/local/lib/python3.6/dist-packages (from pmdarima) (51.3.3)\n",
            "Requirement already satisfied: joblib>=0.11 in /usr/local/lib/python3.6/dist-packages (from pmdarima) (1.0.0)\n",
            "Requirement already satisfied: patsy>=0.5 in /usr/local/lib/python3.6/dist-packages (from statsmodels!=0.12.0,>=0.11->pmdarima) (0.5.1)\n",
            "Requirement already satisfied: python-dateutil>=2.7.3 in /usr/local/lib/python3.6/dist-packages (from pandas>=0.19->pmdarima) (2.8.1)\n",
            "Requirement already satisfied: pytz>=2017.2 in /usr/local/lib/python3.6/dist-packages (from pandas>=0.19->pmdarima) (2018.9)\n",
            "Requirement already satisfied: six in /usr/local/lib/python3.6/dist-packages (from patsy>=0.5->statsmodels!=0.12.0,>=0.11->pmdarima) (1.15.0)\n",
            "Installing collected packages: statsmodels, Cython, pmdarima\n",
            "  Found existing installation: statsmodels 0.10.2\n",
            "    Uninstalling statsmodels-0.10.2:\n",
            "      Successfully uninstalled statsmodels-0.10.2\n",
            "  Found existing installation: Cython 0.29.21\n",
            "    Uninstalling Cython-0.29.21:\n",
            "      Successfully uninstalled Cython-0.29.21\n",
            "Successfully installed Cython-0.29.17 pmdarima-1.8.0 statsmodels-0.12.1\n"
          ],
          "name": "stdout"
        }
      ]
    },
    {
      "cell_type": "code",
      "metadata": {
        "id": "-omUx5nPBfB6"
      },
      "source": [
        "#Importing Libraries for Data Extraction ,Processing and EDA\r\n",
        "import yfinance as yf\r\n",
        "import pandas as pd\r\n",
        "import numpy as np\r\n",
        "import matplotlib.pyplot as plt"
      ],
      "execution_count": 3,
      "outputs": []
    },
    {
      "cell_type": "code",
      "metadata": {
        "id": "7A0x79kgCAGz"
      },
      "source": [
        "key_hist=yf.Ticker(\"KEY\")"
      ],
      "execution_count": 4,
      "outputs": []
    },
    {
      "cell_type": "code",
      "metadata": {
        "id": "BOBxoJWjCEND"
      },
      "source": [
        "key_data=key_hist.history(period='6MO')"
      ],
      "execution_count": 5,
      "outputs": []
    },
    {
      "cell_type": "code",
      "metadata": {
        "colab": {
          "base_uri": "https://localhost:8080/",
          "height": 235
        },
        "id": "mJpbStPIC3QU",
        "outputId": "8618cf19-62a6-4d78-e01d-574f47f9e4e1"
      },
      "source": [
        "key_data.head()"
      ],
      "execution_count": 6,
      "outputs": [
        {
          "output_type": "execute_result",
          "data": {
            "text/html": [
              "<div>\n",
              "<style scoped>\n",
              "    .dataframe tbody tr th:only-of-type {\n",
              "        vertical-align: middle;\n",
              "    }\n",
              "\n",
              "    .dataframe tbody tr th {\n",
              "        vertical-align: top;\n",
              "    }\n",
              "\n",
              "    .dataframe thead th {\n",
              "        text-align: right;\n",
              "    }\n",
              "</style>\n",
              "<table border=\"1\" class=\"dataframe\">\n",
              "  <thead>\n",
              "    <tr style=\"text-align: right;\">\n",
              "      <th></th>\n",
              "      <th>Open</th>\n",
              "      <th>High</th>\n",
              "      <th>Low</th>\n",
              "      <th>Close</th>\n",
              "      <th>Volume</th>\n",
              "      <th>Dividends</th>\n",
              "      <th>Stock Splits</th>\n",
              "    </tr>\n",
              "    <tr>\n",
              "      <th>Date</th>\n",
              "      <th></th>\n",
              "      <th></th>\n",
              "      <th></th>\n",
              "      <th></th>\n",
              "      <th></th>\n",
              "      <th></th>\n",
              "      <th></th>\n",
              "    </tr>\n",
              "  </thead>\n",
              "  <tbody>\n",
              "    <tr>\n",
              "      <th>2020-07-23</th>\n",
              "      <td>11.692179</td>\n",
              "      <td>12.169609</td>\n",
              "      <td>11.594744</td>\n",
              "      <td>12.091661</td>\n",
              "      <td>9238900</td>\n",
              "      <td>0.0</td>\n",
              "      <td>0</td>\n",
              "    </tr>\n",
              "    <tr>\n",
              "      <th>2020-07-24</th>\n",
              "      <td>12.140379</td>\n",
              "      <td>12.306019</td>\n",
              "      <td>11.906536</td>\n",
              "      <td>11.935766</td>\n",
              "      <td>8281800</td>\n",
              "      <td>0.0</td>\n",
              "      <td>0</td>\n",
              "    </tr>\n",
              "    <tr>\n",
              "      <th>2020-07-27</th>\n",
              "      <td>11.848074</td>\n",
              "      <td>11.916278</td>\n",
              "      <td>11.672691</td>\n",
              "      <td>11.779870</td>\n",
              "      <td>10738500</td>\n",
              "      <td>0.0</td>\n",
              "      <td>0</td>\n",
              "    </tr>\n",
              "    <tr>\n",
              "      <th>2020-07-28</th>\n",
              "      <td>11.711666</td>\n",
              "      <td>11.887048</td>\n",
              "      <td>11.662949</td>\n",
              "      <td>11.682435</td>\n",
              "      <td>5918600</td>\n",
              "      <td>0.0</td>\n",
              "      <td>0</td>\n",
              "    </tr>\n",
              "    <tr>\n",
              "      <th>2020-07-29</th>\n",
              "      <td>11.643461</td>\n",
              "      <td>12.247557</td>\n",
              "      <td>11.585001</td>\n",
              "      <td>12.237814</td>\n",
              "      <td>11284400</td>\n",
              "      <td>0.0</td>\n",
              "      <td>0</td>\n",
              "    </tr>\n",
              "  </tbody>\n",
              "</table>\n",
              "</div>"
            ],
            "text/plain": [
              "                 Open       High        Low  ...    Volume  Dividends  Stock Splits\n",
              "Date                                         ...                                   \n",
              "2020-07-23  11.692179  12.169609  11.594744  ...   9238900        0.0             0\n",
              "2020-07-24  12.140379  12.306019  11.906536  ...   8281800        0.0             0\n",
              "2020-07-27  11.848074  11.916278  11.672691  ...  10738500        0.0             0\n",
              "2020-07-28  11.711666  11.887048  11.662949  ...   5918600        0.0             0\n",
              "2020-07-29  11.643461  12.247557  11.585001  ...  11284400        0.0             0\n",
              "\n",
              "[5 rows x 7 columns]"
            ]
          },
          "metadata": {
            "tags": []
          },
          "execution_count": 6
        }
      ]
    },
    {
      "cell_type": "code",
      "metadata": {
        "colab": {
          "base_uri": "https://localhost:8080/",
          "height": 392
        },
        "id": "jwON7LMvCSIF",
        "outputId": "1b399729-ac84-4611-c323-77752f5c72e4"
      },
      "source": [
        "key_data.Close.plot(figsize=(19,6))"
      ],
      "execution_count": 7,
      "outputs": [
        {
          "output_type": "execute_result",
          "data": {
            "text/plain": [
              "<matplotlib.axes._subplots.AxesSubplot at 0x7fe92dc03748>"
            ]
          },
          "metadata": {
            "tags": []
          },
          "execution_count": 7
        },
        {
          "output_type": "display_data",
          "data": {
            "image/png": "[encoded data removed]",
            "text/plain": [
              "<Figure size 1368x432 with 1 Axes>"
            ]
          },
          "metadata": {
            "tags": [],
            "needs_background": "light"
          }
        }
      ]
    },
    {
      "cell_type": "code",
      "metadata": {
        "id": "MG9p7RYZCjge"
      },
      "source": [
        "#Indexing to Business day to enable ETS Decomposition\r\n",
        "key_data.resample('B').last()"
      ],
      "execution_count": 8,
      "outputs": []
    },
    {
      "cell_type": "code",
      "metadata": {
        "colab": {
          "base_uri": "https://localhost:8080/"
        },
        "id": "_1oOUvj-DVRc",
        "outputId": "1c7f7668-beef-4e3f-9347-2c9b8945a0e0"
      },
      "source": [
        "key_data.index"
      ],
      "execution_count": 9,
      "outputs": [
        {
          "output_type": "execute_result",
          "data": {
            "text/plain": [
              "DatetimeIndex(['2020-07-23', '2020-07-24', '2020-07-27', '2020-07-28',\n",
              "               '2020-07-29', '2020-07-30', '2020-07-31', '2020-08-03',\n",
              "               '2020-08-04', '2020-08-05',\n",
              "               ...\n",
              "               '2021-01-11', '2021-01-12', '2021-01-13', '2021-01-14',\n",
              "               '2021-01-15', '2021-01-18', '2021-01-19', '2021-01-20',\n",
              "               '2021-01-21', '2021-01-22'],\n",
              "              dtype='datetime64[ns]', name='Date', length=132, freq='B')"
            ]
          },
          "metadata": {
            "tags": []
          },
          "execution_count": 9
        }
      ]
    },
    {
      "cell_type": "code",
      "metadata": {
        "id": "trdOi21WDjuW"
      },
      "source": [
        "key_data.dropna(inplace=True)"
      ],
      "execution_count": 10,
      "outputs": []
    },
    {
      "cell_type": "code",
      "metadata": {
        "id": "YDAnrGHWD_iB"
      },
      "source": [
        "from statsmodels.tsa.seasonal import seasonal_decompose\r\n",
        "from statsmodels.tsa.stattools import adfuller"
      ],
      "execution_count": 18,
      "outputs": []
    },
    {
      "cell_type": "code",
      "metadata": {
        "id": "7hu17vxYFWJU"
      },
      "source": [
        "decomp=seasonal_decompose(key_data['Close'],model='add',period=20)"
      ],
      "execution_count": 20,
      "outputs": []
    },
    {
      "cell_type": "code",
      "metadata": {
        "id": "65AHiChVJaak"
      },
      "source": [
        "key_data.dropna(inplace=True)"
      ],
      "execution_count": 21,
      "outputs": []
    },
    {
      "cell_type": "code",
      "metadata": {
        "colab": {
          "base_uri": "https://localhost:8080/",
          "height": 385
        },
        "id": "e9ilmOEjKmql",
        "outputId": "9f6c06dd-9007-49cb-82b7-d5043780951e"
      },
      "source": [
        "plt.rcParams[\"figure.figsize\"]=(20,6)\r\n",
        "decomp.plot();"
      ],
      "execution_count": 22,
      "outputs": [
        {
          "output_type": "display_data",
          "data": {
            "image/png": "[encoded data removed]",
            "text/plain": [
              "<Figure size 1440x432 with 4 Axes>"
            ]
          },
          "metadata": {
            "tags": [],
            "needs_background": "light"
          }
        }
      ]
    },
    {
      "cell_type": "markdown",
      "metadata": {
        "id": "3yYiu5_J8eO4"
      },
      "source": [
        "Augmented Dickey Fuller Test to test the Stationarity Of Data"
      ]
    },
    {
      "cell_type": "code",
      "metadata": {
        "colab": {
          "base_uri": "https://localhost:8080/"
        },
        "id": "GnEy4vydMs1D",
        "outputId": "7a39c1c6-4231-48e0-bff5-1588cc9a111f"
      },
      "source": [
        "adfuller(key_data['Close'])"
      ],
      "execution_count": 23,
      "outputs": [
        {
          "output_type": "execute_result",
          "data": {
            "text/plain": [
              "(0.33391301878676033,\n",
              " 0.9788480025319835,\n",
              " 3,\n",
              " 123,\n",
              " {'1%': -3.4846672514209773,\n",
              "  '10%': -2.5794629869786503,\n",
              "  '5%': -2.8853397507076006},\n",
              " 131.90268646495227)"
            ]
          },
          "metadata": {
            "tags": []
          },
          "execution_count": 23
        }
      ]
    },
    {
      "cell_type": "code",
      "metadata": {
        "id": "UQglaEQc8tu3"
      },
      "source": [
        "from pmdarima import auto_arima"
      ],
      "execution_count": 24,
      "outputs": []
    },
    {
      "cell_type": "code",
      "metadata": {
        "colab": {
          "base_uri": "https://localhost:8080/",
          "height": 486
        },
        "id": "AqEMSbqg8x9f",
        "outputId": "ad252c87-871a-498e-e46d-5149336bc614"
      },
      "source": [
        "auto_arima(key_data['Close'],seasonal=False).summary()"
      ],
      "execution_count": 25,
      "outputs": [
        {
          "output_type": "execute_result",
          "data": {
            "text/html": [
              "<table class=\"simpletable\">\n",
              "<caption>SARIMAX Results</caption>\n",
              "<tr>\n",
              "  <th>Dep. Variable:</th>           <td>y</td>        <th>  No. Observations:  </th>   <td>127</td>  \n",
              "</tr>\n",
              "<tr>\n",
              "  <th>Model:</th>           <td>SARIMAX(2, 1, 2)</td> <th>  Log Likelihood     </th> <td>-61.525</td>\n",
              "</tr>\n",
              "<tr>\n",
              "  <th>Date:</th>            <td>Mon, 25 Jan 2021</td> <th>  AIC                </th> <td>135.051</td>\n",
              "</tr>\n",
              "<tr>\n",
              "  <th>Time:</th>                <td>05:11:01</td>     <th>  BIC                </th> <td>152.068</td>\n",
              "</tr>\n",
              "<tr>\n",
              "  <th>Sample:</th>                  <td>0</td>        <th>  HQIC               </th> <td>141.964</td>\n",
              "</tr>\n",
              "<tr>\n",
              "  <th></th>                      <td> - 127</td>      <th>                     </th>    <td> </td>   \n",
              "</tr>\n",
              "<tr>\n",
              "  <th>Covariance Type:</th>        <td>opg</td>       <th>                     </th>    <td> </td>   \n",
              "</tr>\n",
              "</table>\n",
              "<table class=\"simpletable\">\n",
              "<tr>\n",
              "      <td></td>         <th>coef</th>     <th>std err</th>      <th>z</th>      <th>P>|z|</th>  <th>[0.025</th>    <th>0.975]</th>  \n",
              "</tr>\n",
              "<tr>\n",
              "  <th>intercept</th> <td>    0.0479</td> <td>    0.034</td> <td>    1.396</td> <td> 0.163</td> <td>   -0.019</td> <td>    0.115</td>\n",
              "</tr>\n",
              "<tr>\n",
              "  <th>ar.L1</th>     <td>    0.8776</td> <td>    0.169</td> <td>    5.192</td> <td> 0.000</td> <td>    0.546</td> <td>    1.209</td>\n",
              "</tr>\n",
              "<tr>\n",
              "  <th>ar.L2</th>     <td>   -0.8602</td> <td>    0.105</td> <td>   -8.222</td> <td> 0.000</td> <td>   -1.065</td> <td>   -0.655</td>\n",
              "</tr>\n",
              "<tr>\n",
              "  <th>ma.L1</th>     <td>   -0.9760</td> <td>    0.181</td> <td>   -5.407</td> <td> 0.000</td> <td>   -1.330</td> <td>   -0.622</td>\n",
              "</tr>\n",
              "<tr>\n",
              "  <th>ma.L2</th>     <td>    0.7895</td> <td>    0.170</td> <td>    4.636</td> <td> 0.000</td> <td>    0.456</td> <td>    1.123</td>\n",
              "</tr>\n",
              "<tr>\n",
              "  <th>sigma2</th>    <td>    0.1549</td> <td>    0.013</td> <td>   12.245</td> <td> 0.000</td> <td>    0.130</td> <td>    0.180</td>\n",
              "</tr>\n",
              "</table>\n",
              "<table class=\"simpletable\">\n",
              "<tr>\n",
              "  <th>Ljung-Box (L1) (Q):</th>     <td>0.26</td> <th>  Jarque-Bera (JB):  </th> <td>319.98</td>\n",
              "</tr>\n",
              "<tr>\n",
              "  <th>Prob(Q):</th>                <td>0.61</td> <th>  Prob(JB):          </th>  <td>0.00</td> \n",
              "</tr>\n",
              "<tr>\n",
              "  <th>Heteroskedasticity (H):</th> <td>1.87</td> <th>  Skew:              </th>  <td>1.60</td> \n",
              "</tr>\n",
              "<tr>\n",
              "  <th>Prob(H) (two-sided):</th>    <td>0.05</td> <th>  Kurtosis:          </th>  <td>10.12</td>\n",
              "</tr>\n",
              "</table><br/><br/>Warnings:<br/>[1] Covariance matrix calculated using the outer product of gradients (complex-step)."
            ],
            "text/plain": [
              "<class 'statsmodels.iolib.summary.Summary'>\n",
              "\"\"\"\n",
              "                               SARIMAX Results                                \n",
              "==============================================================================\n",
              "Dep. Variable:                      y   No. Observations:                  127\n",
              "Model:               SARIMAX(2, 1, 2)   Log Likelihood                 -61.525\n",
              "Date:                Mon, 25 Jan 2021   AIC                            135.051\n",
              "Time:                        05:11:01   BIC                            152.068\n",
              "Sample:                             0   HQIC                           141.964\n",
              "                                - 127                                         \n",
              "Covariance Type:                  opg                                         \n",
              "==============================================================================\n",
              "                 coef    std err          z      P>|z|      [0.025      0.975]\n",
              "------------------------------------------------------------------------------\n",
              "intercept      0.0479      0.034      1.396      0.163      -0.019       0.115\n",
              "ar.L1          0.8776      0.169      5.192      0.000       0.546       1.209\n",
              "ar.L2         -0.8602      0.105     -8.222      0.000      -1.065      -0.655\n",
              "ma.L1         -0.9760      0.181     -5.407      0.000      -1.330      -0.622\n",
              "ma.L2          0.7895      0.170      4.636      0.000       0.456       1.123\n",
              "sigma2         0.1549      0.013     12.245      0.000       0.130       0.180\n",
              "===================================================================================\n",
              "Ljung-Box (L1) (Q):                   0.26   Jarque-Bera (JB):               319.98\n",
              "Prob(Q):                              0.61   Prob(JB):                         0.00\n",
              "Heteroskedasticity (H):               1.87   Skew:                             1.60\n",
              "Prob(H) (two-sided):                  0.05   Kurtosis:                        10.12\n",
              "===================================================================================\n",
              "\n",
              "Warnings:\n",
              "[1] Covariance matrix calculated using the outer product of gradients (complex-step).\n",
              "\"\"\""
            ]
          },
          "metadata": {
            "tags": []
          },
          "execution_count": 25
        }
      ]
    },
    {
      "cell_type": "code",
      "metadata": {
        "id": "UKP3ILMoVQL1",
        "colab": {
          "base_uri": "https://localhost:8080/"
        },
        "outputId": "aa778965-2b39-46b2-f5df-9f3eda8774b0"
      },
      "source": [
        "len(key_data)"
      ],
      "execution_count": 26,
      "outputs": [
        {
          "output_type": "execute_result",
          "data": {
            "text/plain": [
              "127"
            ]
          },
          "metadata": {
            "tags": []
          },
          "execution_count": 26
        }
      ]
    },
    {
      "cell_type": "code",
      "metadata": {
        "id": "z3LmdEjp96w0"
      },
      "source": [
        "train_key=key_data.iloc[ :105]\r\n",
        "test_key=key_data.iloc[105:]"
      ],
      "execution_count": 27,
      "outputs": []
    },
    {
      "cell_type": "code",
      "metadata": {
        "id": "xqOA6ycM-K8T"
      },
      "source": [
        "from statsmodels.tsa.statespace.sarimax import SARIMAX,SARIMAXResults"
      ],
      "execution_count": 37,
      "outputs": []
    },
    {
      "cell_type": "code",
      "metadata": {
        "colab": {
          "base_uri": "https://localhost:8080/"
        },
        "id": "QML3hUAA-TA2",
        "outputId": "e73da8db-fd15-4b29-b43c-2948f4bdc9cf"
      },
      "source": [
        "model=SARIMAX(train_key['Close'],order=(2,1,2))"
      ],
      "execution_count": 30,
      "outputs": [
        {
          "output_type": "stream",
          "text": [
            "/usr/local/lib/python3.6/dist-packages/statsmodels/tsa/base/tsa_model.py:583: ValueWarning: A date index has been provided, but it has no associated frequency information and so will be ignored when e.g. forecasting.\n",
            "  ' ignored when e.g. forecasting.', ValueWarning)\n",
            "/usr/local/lib/python3.6/dist-packages/statsmodels/tsa/base/tsa_model.py:583: ValueWarning: A date index has been provided, but it has no associated frequency information and so will be ignored when e.g. forecasting.\n",
            "  ' ignored when e.g. forecasting.', ValueWarning)\n"
          ],
          "name": "stderr"
        }
      ]
    },
    {
      "cell_type": "code",
      "metadata": {
        "colab": {
          "base_uri": "https://localhost:8080/"
        },
        "id": "RGt69dQc-5-V",
        "outputId": "aae28703-98dc-4d4e-d45d-8e1fd03c333c"
      },
      "source": [
        "results=model.fit()"
      ],
      "execution_count": 31,
      "outputs": [
        {
          "output_type": "stream",
          "text": [
            "/usr/local/lib/python3.6/dist-packages/statsmodels/tsa/statespace/sarimax.py:978: UserWarning: Non-invertible starting MA parameters found. Using zeros as starting parameters.\n",
            "  warn('Non-invertible starting MA parameters found.'\n"
          ],
          "name": "stderr"
        }
      ]
    },
    {
      "cell_type": "code",
      "metadata": {
        "colab": {
          "base_uri": "https://localhost:8080/",
          "height": 465
        },
        "id": "obX-25-c_F-S",
        "outputId": "990bd1c1-aea7-4f14-eca9-c77c4a5b2d9d"
      },
      "source": [
        "results.summary()"
      ],
      "execution_count": 32,
      "outputs": [
        {
          "output_type": "execute_result",
          "data": {
            "text/html": [
              "<table class=\"simpletable\">\n",
              "<caption>SARIMAX Results</caption>\n",
              "<tr>\n",
              "  <th>Dep. Variable:</th>         <td>Close</td>      <th>  No. Observations:  </th>   <td>105</td>  \n",
              "</tr>\n",
              "<tr>\n",
              "  <th>Model:</th>           <td>SARIMAX(2, 1, 2)</td> <th>  Log Likelihood     </th> <td>-48.461</td>\n",
              "</tr>\n",
              "<tr>\n",
              "  <th>Date:</th>            <td>Mon, 25 Jan 2021</td> <th>  AIC                </th> <td>106.923</td>\n",
              "</tr>\n",
              "<tr>\n",
              "  <th>Time:</th>                <td>05:21:22</td>     <th>  BIC                </th> <td>120.145</td>\n",
              "</tr>\n",
              "<tr>\n",
              "  <th>Sample:</th>                  <td>0</td>        <th>  HQIC               </th> <td>112.279</td>\n",
              "</tr>\n",
              "<tr>\n",
              "  <th></th>                      <td> - 105</td>      <th>                     </th>    <td> </td>   \n",
              "</tr>\n",
              "<tr>\n",
              "  <th>Covariance Type:</th>        <td>opg</td>       <th>                     </th>    <td> </td>   \n",
              "</tr>\n",
              "</table>\n",
              "<table class=\"simpletable\">\n",
              "<tr>\n",
              "     <td></td>       <th>coef</th>     <th>std err</th>      <th>z</th>      <th>P>|z|</th>  <th>[0.025</th>    <th>0.975]</th>  \n",
              "</tr>\n",
              "<tr>\n",
              "  <th>ar.L1</th>  <td>    0.8924</td> <td>    0.163</td> <td>    5.462</td> <td> 0.000</td> <td>    0.572</td> <td>    1.213</td>\n",
              "</tr>\n",
              "<tr>\n",
              "  <th>ar.L2</th>  <td>   -0.8744</td> <td>    0.093</td> <td>   -9.408</td> <td> 0.000</td> <td>   -1.057</td> <td>   -0.692</td>\n",
              "</tr>\n",
              "<tr>\n",
              "  <th>ma.L1</th>  <td>   -1.0150</td> <td>    0.186</td> <td>   -5.450</td> <td> 0.000</td> <td>   -1.380</td> <td>   -0.650</td>\n",
              "</tr>\n",
              "<tr>\n",
              "  <th>ma.L2</th>  <td>    0.8080</td> <td>    0.168</td> <td>    4.822</td> <td> 0.000</td> <td>    0.480</td> <td>    1.136</td>\n",
              "</tr>\n",
              "<tr>\n",
              "  <th>sigma2</th> <td>    0.1477</td> <td>    0.014</td> <td>   10.269</td> <td> 0.000</td> <td>    0.119</td> <td>    0.176</td>\n",
              "</tr>\n",
              "</table>\n",
              "<table class=\"simpletable\">\n",
              "<tr>\n",
              "  <th>Ljung-Box (L1) (Q):</th>     <td>0.99</td> <th>  Jarque-Bera (JB):  </th> <td>239.70</td>\n",
              "</tr>\n",
              "<tr>\n",
              "  <th>Prob(Q):</th>                <td>0.32</td> <th>  Prob(JB):          </th>  <td>0.00</td> \n",
              "</tr>\n",
              "<tr>\n",
              "  <th>Heteroskedasticity (H):</th> <td>4.40</td> <th>  Skew:              </th>  <td>1.37</td> \n",
              "</tr>\n",
              "<tr>\n",
              "  <th>Prob(H) (two-sided):</th>    <td>0.00</td> <th>  Kurtosis:          </th>  <td>9.91</td> \n",
              "</tr>\n",
              "</table><br/><br/>Warnings:<br/>[1] Covariance matrix calculated using the outer product of gradients (complex-step)."
            ],
            "text/plain": [
              "<class 'statsmodels.iolib.summary.Summary'>\n",
              "\"\"\"\n",
              "                               SARIMAX Results                                \n",
              "==============================================================================\n",
              "Dep. Variable:                  Close   No. Observations:                  105\n",
              "Model:               SARIMAX(2, 1, 2)   Log Likelihood                 -48.461\n",
              "Date:                Mon, 25 Jan 2021   AIC                            106.923\n",
              "Time:                        05:21:22   BIC                            120.145\n",
              "Sample:                             0   HQIC                           112.279\n",
              "                                - 105                                         \n",
              "Covariance Type:                  opg                                         \n",
              "==============================================================================\n",
              "                 coef    std err          z      P>|z|      [0.025      0.975]\n",
              "------------------------------------------------------------------------------\n",
              "ar.L1          0.8924      0.163      5.462      0.000       0.572       1.213\n",
              "ar.L2         -0.8744      0.093     -9.408      0.000      -1.057      -0.692\n",
              "ma.L1         -1.0150      0.186     -5.450      0.000      -1.380      -0.650\n",
              "ma.L2          0.8080      0.168      4.822      0.000       0.480       1.136\n",
              "sigma2         0.1477      0.014     10.269      0.000       0.119       0.176\n",
              "===================================================================================\n",
              "Ljung-Box (L1) (Q):                   0.99   Jarque-Bera (JB):               239.70\n",
              "Prob(Q):                              0.32   Prob(JB):                         0.00\n",
              "Heteroskedasticity (H):               4.40   Skew:                             1.37\n",
              "Prob(H) (two-sided):                  0.00   Kurtosis:                         9.91\n",
              "===================================================================================\n",
              "\n",
              "Warnings:\n",
              "[1] Covariance matrix calculated using the outer product of gradients (complex-step).\n",
              "\"\"\""
            ]
          },
          "metadata": {
            "tags": []
          },
          "execution_count": 32
        }
      ]
    },
    {
      "cell_type": "code",
      "metadata": {
        "id": "wrlj68HW_S2A"
      },
      "source": [
        "start=len(train_key)\r\n",
        "end=len(train_key)+len(test_key)-1"
      ],
      "execution_count": 35,
      "outputs": []
    },
    {
      "cell_type": "code",
      "metadata": {
        "colab": {
          "base_uri": "https://localhost:8080/"
        },
        "id": "NOaFu92B_a6r",
        "outputId": "352bbe57-c009-4f06-ad38-e5a22e62845b"
      },
      "source": [
        "predictions=results.predict(start,end)"
      ],
      "execution_count": 38,
      "outputs": [
        {
          "output_type": "stream",
          "text": [
            "/usr/local/lib/python3.6/dist-packages/statsmodels/tsa/base/tsa_model.py:379: ValueWarning: No supported index is available. Prediction results will be given with an integer index beginning at `start`.\n",
            "  ValueWarning)\n"
          ],
          "name": "stderr"
        }
      ]
    },
    {
      "cell_type": "code",
      "metadata": {
        "colab": {
          "base_uri": "https://localhost:8080/"
        },
        "id": "ZU1rWuJIBNez",
        "outputId": "7ed512b6-c876-4d13-ac34-96d0a6ac0dcc"
      },
      "source": [
        "print(predictions,test_key['Close'])"
      ],
      "execution_count": 44,
      "outputs": [
        {
          "output_type": "stream",
          "text": [
            "105    15.464091\n",
            "106    15.536696\n",
            "107    15.562931\n",
            "108    15.522858\n",
            "109    15.464157\n",
            "110    15.446816\n",
            "111    15.482668\n",
            "112    15.529825\n",
            "113    15.540557\n",
            "114    15.508899\n",
            "115    15.471265\n",
            "116    15.465364\n",
            "117    15.493005\n",
            "118    15.522831\n",
            "119    15.525277\n",
            "120    15.501380\n",
            "121    15.477916\n",
            "122    15.477874\n",
            "123    15.498352\n",
            "124    15.516664\n",
            "125    15.515098\n",
            "126    15.497689\n",
            "Name: predicted_mean, dtype: float64 Date\n",
            "2020-12-21    15.750000\n",
            "2020-12-22    15.740000\n",
            "2020-12-23    16.330000\n",
            "2020-12-24    16.190001\n",
            "2020-12-28    16.250000\n",
            "2020-12-29    15.970000\n",
            "2020-12-30    16.250000\n",
            "2020-12-31    16.410000\n",
            "2021-01-04    16.290001\n",
            "2021-01-05    16.549999\n",
            "2021-01-06    18.160000\n",
            "2021-01-07    18.490000\n",
            "2021-01-08    18.240000\n",
            "2021-01-11    18.480000\n",
            "2021-01-12    18.840000\n",
            "2021-01-13    18.790001\n",
            "2021-01-14    18.930000\n",
            "2021-01-15    18.410000\n",
            "2021-01-19    18.549999\n",
            "2021-01-20    18.290001\n",
            "2021-01-21    18.150000\n",
            "2021-01-22    18.200001\n",
            "Name: Close, dtype: float64\n"
          ],
          "name": "stdout"
        }
      ]
    },
    {
      "cell_type": "code",
      "metadata": {
        "id": "GImzdCQe_sa-"
      },
      "source": [
        "from statsmodels.tools.eval_measures import rmse"
      ],
      "execution_count": 39,
      "outputs": []
    },
    {
      "cell_type": "code",
      "metadata": {
        "colab": {
          "base_uri": "https://localhost:8080/"
        },
        "id": "r5OOHKbJApPC",
        "outputId": "fa3835ac-1ce7-4496-bf47-e56a99596770"
      },
      "source": [
        "rmse(predictions,test_key['Close'])"
      ],
      "execution_count": 41,
      "outputs": [
        {
          "output_type": "execute_result",
          "data": {
            "text/plain": [
              "2.2491537496784164"
            ]
          },
          "metadata": {
            "tags": []
          },
          "execution_count": 41
        }
      ]
    },
    {
      "cell_type": "code",
      "metadata": {
        "id": "tdYQVj_zBDLl"
      },
      "source": [
        ""
      ],
      "execution_count": null,
      "outputs": []
    }
  ]
}